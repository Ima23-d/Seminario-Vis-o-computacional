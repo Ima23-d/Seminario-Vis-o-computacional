
from tensorflow.keras.datasets import mnist
from tensorflow.keras import layers, models
from sklearn.metrics import accuracy_score
from sklearn.metrics import confusion_matrix
import numpy as np
import matplotlib.pyplot as plt
import pandas as pd
import seaborn as sns

(x_train,y_train),(x_test,y_test) = mnist.load_data()#Dataset mnist
x_train,x_test = x_train / 255.0, x_test / 255.0 #Normalização dos dados 

modelo = models.Sequential([ #Rede neural
    layers.Flatten(input_shape=(28, 28)),
    layers.Dense(128, activation='relu'),
    layers.Dense(64, activation='relu'),
    layers.Dense(10, activation='softmax')
])
6
modelo.compile(optimizer='adam', #Compilação do modelo
               loss='sparse_categorical_crossentropy',
               metrics=['accuracy'])

modelo.fit(x_train,y_train,epochs=5,validation_data=(x_test,y_test))#Treinamento do modelo

previsao = modelo.predict(x_test)
previsao_categoria = np.argmax(previsao, axis=1)

matriz_confusao = confusion_matrix(y_test, previsao_categoria)
acuracia = accuracy_score(y_test, previsao_categoria)


sns.heatmap(matriz_confusao, annot=True, fmt='d', cmap='Blues')

print("Dataset MNIST - Dígitos manuscritos")
plt.figure(figsize=(10, 10))
for i in range(10):
    plt.subplot(1, 10, i + 1) 
    plt.imshow(x_train[i], cmap='gray') 
    plt.title(y_train[i])  
    plt.axis('off')  
plt.tight_layout()
plt.show()


print("10 primeiras previsões:")
for i in range(10):
    plt.title(f"Predição: {previsao_categoria[i]}, Real: {y_test[i]}, Acurácia: {acuracia:.2%}")
    plt.imshow(x_test[i], cmap='gray')
    plt.show()
