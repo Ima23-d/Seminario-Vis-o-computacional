from tensorflow.keras.datasets import mnist
from tensorflow.keras import layers, models
from sklearn.metrics import accuracy_score, confusion_matrix
import numpy as np
import matplotlib.pyplot as plt
import seaborn as sns

# Carregar o dataset MNIST
(x_train, y_train), (x_test, y_test) = mnist.load_data()  # Dataset MNIST

# Normalizar os dados
x_train, x_test = x_train / 255.0, x_test / 255.0

# Criar o modelo de rede neural
modelo = models.Sequential([  # Rede neural
    layers.Flatten(input_shape=(28, 28)),
    layers.Dense(128, activation='relu'),
    layers.Dense(64, activation='relu'),
    layers.Dense(10, activation='softmax')
])

# Compilação do modelo
modelo.compile(optimizer='adam', 
               loss='sparse_categorical_crossentropy',
               metrics=['accuracy'])

# Treinamento do modelo
modelo.fit(x_train, y_train, epochs=5, validation_data=(x_test, y_test))

# Previsão do modelo
previsao = modelo.predict(x_test)
previsao_categoria = np.argmax(previsao, axis=1)

# Calcular a matriz de confusão e acurácia
matriz_confusao = confusion_matrix(y_test, previsao_categoria)
acuracia = accuracy_score(y_test, previsao_categoria)

# Exibir a matriz de confusão com seaborn
plt.figure(figsize=(8, 6))
sns.heatmap(matriz_confusao, annot=True, fmt='d', cmap='Blues', xticklabels=range(10), yticklabels=range(10))
plt.title("Matriz de Confusão")
plt.xlabel('Classe Prevista')
plt.ylabel('Classe Real')
plt.show()

# Visualizar as primeiras 10 imagens do treinamento
print("Dataset MNIST - Dígitos manuscritos")
plt.figure(figsize=(10, 10))
for i in range(10):
    plt.subplot(1, 10, i + 1)
    plt.imshow(x_train[i], cmap='gray')  # Mostrar a imagem
    plt.title(y_train[i])  # Título da imagem com o rótulo
    plt.axis('off')  # Remover os eixos
plt.tight_layout()
plt.show()

# Exibir as 10 primeiras previsões com a acurácia
print("10 primeiras previsões:")
for i in range(5):
    plt.title(f"Predição: {previsao_categoria[i]}, Real: {y_test[i]}")
    plt.imshow(x_test[i], cmap='gray')
    plt.axis('off')
    plt.show()

# Exibir a imagem de uma matriz com valores de pixels
plt.figure(figsize=(8, 8))
plt.imshow(x_test[0], cmap='gray')
plt.title('Matriz com Valores de Pixels')
plt.axis('off')

# Desenhar os valores de pixels na imagem
linhas, colunas = x_test[0].shape
for i in range(linhas):
    for j in range(colunas):
        valor = x_test[0][i, j] * 255  # De volta ao valor original de 0-255
        cor_texto = 'white' if valor < 128 else 'black'
        plt.text(j, i, f'{valor:2.0f}', ha='center', va='center', color=cor_texto, fontsize=6)

plt.tight_layout()
plt.show()

