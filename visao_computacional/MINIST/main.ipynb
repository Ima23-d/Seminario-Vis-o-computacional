from tensorflow.keras.datasets import mnist
from tensorflow.keras import layers, models
from sklearn.metrics import accuracy_score, confusion_matrix
import numpy as np
import matplotlib.pyplot as plt
import seaborn as sns


(x_train, y_train), (x_test, y_test) = mnist.load_data()

x_train, x_test = x_train / 255.0, x_test / 255.0


modelo = models.Sequential([  # Rede neural
    layers.Flatten(input_shape=(28, 28)), # - vetorizar as imagens 28x28 em um vetor de 784 elementos
    layers.Dense(128, activation='relu'), # - neurônios na camada oculta
    layers.Dense(64, activation='relu'), # - neurônios na camada oculta
    layers.Dense(10, activation='softmax') # - camada de saída com 10 classes (0-9)
])


modelo.compile(optimizer='adam', # - onde usa as derivadas para ajustar os pesos
               loss='sparse_categorical_crossentropy', # - função de perda
               metrics=['accuracy']) # - métrica de avaliação

modelo.fit(x_train, y_train, epochs=5, validation_data=(x_test, y_test))


previsao = modelo.predict(x_test) # - retorna probabilidades para cada classe
previsao_categoria = np.argmax(previsao, axis=1) # - converte probabilidades em classes previstas


matriz_confusao = confusion_matrix(y_test, previsao_categoria) # - matriz de confusão
acuracia = accuracy_score(y_test, previsao_categoria) # - acurácia do modelo

plt.figure(figsize=(8, 6))
sns.heatmap(matriz_confusao, annot=True, fmt='d', cmap='Blues', xticklabels=range(10), yticklabels=range(10))
plt.title("Matriz de Confusão")
plt.xlabel('Classe Prevista')
plt.ylabel('Classe Real')
plt.show()

print("Dataset MNIST - Dígitos manuscritos")
plt.figure(figsize=(10, 10))
for i in range(10):
    plt.subplot(1, 10, i + 1)
    plt.imshow(x_train[i], cmap='gray')  
    plt.title(y_train[i])
    plt.axis('off') 
plt.tight_layout()
plt.show()

print("10 primeiras previsões:")
for i in range(5):
    plt.title(f"Predição: {previsao_categoria[i]}, Real: {y_test[i]}, Acurácia: {acuracia:.2f}")
    plt.imshow(x_test[i], cmap='gray')
    plt.axis('off')
    plt.show()

print("Matriz de valores de pixels da primeira imagem de teste:")
plt.figure(figsize=(8, 8))
plt.imshow(x_test[0], cmap='gray')
plt.title('Matriz com Valores de Pixels')
plt.axis('off')
linhas, colunas = x_test[0].shape
for i in range(linhas):
    for j in range(colunas):
        valor = x_test[0][i, j] * 255 # Escala de 0 a 255
        cor_texto = 'white' if valor < 128 else 'black'
        plt.text(j, i, f'{valor:2.0f}', ha='center', va='center', color=cor_texto, fontsize=6)

plt.tight_layout()
plt.show()

